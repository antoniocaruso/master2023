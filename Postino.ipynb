{
 "cells": [
  {
   "cell_type": "code",
   "execution_count": 33,
   "id": "83cbe714-6ad7-424f-a424-6c0d1ebbdc91",
   "metadata": {
    "tags": []
   },
   "outputs": [],
   "source": [
    "import random\n",
    "from itertools import permutations\n",
    "import matplotlib.pyplot as plt\n",
    "import time\n",
    "%matplotlib inline\n"
   ]
  },
  {
   "cell_type": "code",
   "execution_count": 37,
   "id": "985a929d-26e7-4c69-b95e-fac1e359ebd0",
   "metadata": {
    "tags": []
   },
   "outputs": [],
   "source": [
    "City = complex\n",
    "def X(city): return city.real\n",
    "def Y(city): return city.imag\n",
    "\n",
    "def distance(a,b): return abs(b-a)\n",
    "\n",
    "def Cities(n, w=900, h=600, seed=1):\n",
    "    # creo n punti a caso sul piano.\n",
    "    return frozenset(City(random.randrange(w),random.randrange(h)) for _ in range(n))\n",
    "\n",
    "Tour = list\n",
    "\n",
    "def first(s):\n",
    "    return next(iter(s))\n",
    "\n",
    "def alltours(cities):\n",
    "    start = first(cities)\n",
    "    return [[start] + Tour(r) for r in permutations(cities - {start})]\n",
    "\n",
    "def tour_length(t):\n",
    "    return sum(distance(t[i-1],t[i]) for i in range(len(t)))\n",
    "\n",
    "def minimo_tours(x) -> list:\n",
    "    return min(x,key=tour_length)\n",
    "\n",
    "def bruteforce(c): \n",
    "    return minimo_tours(alltours(c))\n",
    " "
   ]
  },
  {
   "cell_type": "code",
   "execution_count": 3,
   "id": "7ebe193d-32c9-43e9-974a-55ab6badbc10",
   "metadata": {
    "tags": []
   },
   "outputs": [
    {
     "name": "stdout",
     "output_type": "stream",
     "text": [
      "frozenset({(795+119j), (302+404j), (548+464j), (209+34j), (950+406j)})\n"
     ]
    }
   ],
   "source": [
    "c = Cities(5,seed=10)\n",
    "print(c)"
   ]
  },
  {
   "cell_type": "code",
   "execution_count": 27,
   "id": "78fa170e-1e95-4b29-8ff0-83470fcd7bc4",
   "metadata": {
    "tags": []
   },
   "outputs": [
    {
     "name": "stdout",
     "output_type": "stream",
     "text": [
      "[(795+119j), (950+406j), (548+464j), (302+404j), (209+34j)]\n",
      "[(795+119j), (950+406j), (548+464j), (302+404j), (209+34j)]\n"
     ]
    }
   ],
   "source": [
    "l = alltours(c)\n",
    "sol = min(l,key=tour_length)\n",
    "print(sol)\n",
    "print(bruteforce(c))"
   ]
  },
  {
   "cell_type": "code",
   "execution_count": 38,
   "id": "67eb238e-4fee-4858-85d9-eb53f3979e9c",
   "metadata": {
    "tags": []
   },
   "outputs": [],
   "source": [
    "\n",
    "def plot_tour(tour):\n",
    "    \"Plot the cities as circles and the tour as lines between them. Start city is red square.\"\n",
    "    start = tour[0]\n",
    "    plot_lines(list(tour) + [start])\n",
    "    plot_lines([start], 'rs') # Mark the start city with a red square\n",
    "    \n",
    "def plot_lines(points, style='bo-'):\n",
    "    \"Plot lines to connect a series of points.\"\n",
    "    plt.plot(list(map(X, points)), list(map(Y, points)), style)\n",
    "    plt.axis('scaled'); plt.axis('off')    \n",
    "    \n",
    "def plot_tsp(algorithm, cities):\n",
    "    \"Apply a TSP algorithm to cities, plot the resulting tour, and print information.\"\n",
    "    # Find the solution and time how long it takes\n",
    "    t0 = time.perf_counter()\n",
    "    tour = algorithm(cities)\n",
    "    t1 = time.perf_counter()\n",
    "    assert valid_tour(tour, cities)\n",
    "    plot_tour(tour); \n",
    "    plt.show()\n",
    "    print(f\"{len(tour)} city tour with length {tour_length(tour):.1f} in {:.3f} secs for {t1 - t0}\")\n",
    "    \n",
    "def valid_tour(tour, cities):\n",
    "    \"Is tour a valid tour for these cities?\"\n",
    "    return set(tour) == set(cities) and len(tour) == len(cities)\n",
    "    \n",
    "    "
   ]
  },
  {
   "cell_type": "code",
   "execution_count": 48,
   "id": "7ff75b39-fa2d-41d7-967e-32be96d1a695",
   "metadata": {
    "tags": []
   },
   "outputs": [
    {
     "data": {
      "image/png": "[encoded data removed]",
      "text/plain": [
       "<Figure size 640x480 with 1 Axes>"
      ]
     },
     "metadata": {},
     "output_type": "display_data"
    },
    {
     "name": "stdout",
     "output_type": "stream",
     "text": [
      "11 city tour with length 2100.3 in 5.879 secs for bruteforce\n"
     ]
    }
   ],
   "source": [
    "plot_tsp(bruteforce,Cities(11))"
   ]
  },
  {
   "cell_type": "code",
   "execution_count": null,
   "id": "227654bf-1683-4434-aa6b-5925a2e00983",
   "metadata": {},
   "outputs": [],
   "source": [
    "NP-completi\n"
   ]
  }
 ],
 "metadata": {
  "kernelspec": {
   "display_name": "Python 3 (ipykernel)",
   "language": "python",
   "name": "python3"
  },
  "language_info": {
   "codemirror_mode": {
    "name": "ipython",
    "version": 3
   },
   "file_extension": ".py",
   "mimetype": "text/x-python",
   "name": "python",
   "nbconvert_exporter": "python",
   "pygments_lexer": "ipython3",
   "version": "3.11.3"
  }
 },
 "nbformat": 4,
 "nbformat_minor": 5
}
