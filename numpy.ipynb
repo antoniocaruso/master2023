{
 "cells": [
  {
   "cell_type": "code",
   "execution_count": 1,
   "id": "f93dd7e2-8972-4241-99ce-56dc614fda93",
   "metadata": {
    "tags": []
   },
   "outputs": [],
   "source": [
    "import numpy as np\n"
   ]
  },
  {
   "cell_type": "code",
   "execution_count": 2,
   "id": "56ba31b3-5226-470f-b66c-93bf11dbb1fa",
   "metadata": {
    "tags": []
   },
   "outputs": [
    {
     "name": "stdout",
     "output_type": "stream",
     "text": [
      "[0. 0. 0. 0. 0. 0. 0. 0. 0. 0.]\n"
     ]
    }
   ],
   "source": [
    "# creation\n",
    "\n",
    "a = np.zeros(10)\n",
    "print(a)"
   ]
  },
  {
   "cell_type": "code",
   "execution_count": 82,
   "id": "e5cb143e-ea40-4fa8-9675-8a7353e01926",
   "metadata": {
    "tags": []
   },
   "outputs": [
    {
     "data": {
      "text/plain": [
       "((10,), 1, dtype('float64'), 80)"
      ]
     },
     "execution_count": 82,
     "metadata": {},
     "output_type": "execute_result"
    }
   ],
   "source": [
    "a.shape,a.ndim,a.dtype,a.nbytes"
   ]
  },
  {
   "cell_type": "code",
   "execution_count": 22,
   "id": "e64448a9-ac2b-42b1-bd7c-89730d52cfc8",
   "metadata": {
    "tags": []
   },
   "outputs": [
    {
     "name": "stdout",
     "output_type": "stream",
     "text": [
      "[[1. 1. 1.]\n",
      " [1. 1. 1.]]\n",
      "----------\n",
      "[[2 0 0]\n",
      " [0 3 0]\n",
      " [0 0 4]]\n",
      "----------\n",
      "[[1. 0. 0. 0.]\n",
      " [0. 1. 0. 0.]\n",
      " [0. 0. 1. 0.]\n",
      " [0. 0. 0. 1.]]\n",
      "----------\n",
      "[[[ 0  1]\n",
      "  [ 2  3]\n",
      "  [ 4  5]]\n",
      "\n",
      " [[ 6  7]\n",
      "  [ 8  9]\n",
      "  [10 11]]\n",
      "\n",
      " [[12 13]\n",
      "  [14 15]\n",
      "  [16 17]]]\n",
      "----------\n"
     ]
    }
   ],
   "source": [
    "# more dimension:\n",
    "\n",
    "b = np.ones((2,3))\n",
    "print(b)\n",
    "print(\"-\"*10)\n",
    "\n",
    "c = np.diag(np.arange(2,5))\n",
    "print(c)\n",
    "print(\"-\"*10)\n",
    "\n",
    "I = np.identity(4)\n",
    "print(I)\n",
    "print(\"-\"*10)\n",
    "\n",
    "d = np.arange(9*2).reshape((3,3,2))\n",
    "print(d)\n",
    "print(\"-\"*10)"
   ]
  },
  {
   "cell_type": "code",
   "execution_count": 21,
   "id": "1aa8fe81-30b5-4f60-802c-00e0b90a3745",
   "metadata": {
    "tags": []
   },
   "outputs": [
    {
     "data": {
      "text/plain": [
       "(0.0, 4)"
      ]
     },
     "execution_count": 21,
     "metadata": {},
     "output_type": "execute_result"
    }
   ],
   "source": [
    "# Selection:\n",
    "a[1], c[2,2]"
   ]
  },
  {
   "cell_type": "code",
   "execution_count": 23,
   "id": "73ef98e8-d596-41ca-8fb6-7ab286d246a1",
   "metadata": {
    "tags": []
   },
   "outputs": [
    {
     "data": {
      "text/plain": [
       "array([-10.        ,  -8.94736842,  -7.89473684,  -6.84210526,\n",
       "        -5.78947368,  -4.73684211,  -3.68421053,  -2.63157895,\n",
       "        -1.57894737,  -0.52631579,   0.52631579,   1.57894737,\n",
       "         2.63157895,   3.68421053,   4.73684211,   5.78947368,\n",
       "         6.84210526,   7.89473684,   8.94736842,  10.        ])"
      ]
     },
     "execution_count": 23,
     "metadata": {},
     "output_type": "execute_result"
    }
   ],
   "source": [
    "np.linspace(-10,10,20)"
   ]
  },
  {
   "cell_type": "code",
   "execution_count": 114,
   "id": "60e9c929-2e5f-4e09-9aef-44784a9266e0",
   "metadata": {
    "tags": []
   },
   "outputs": [
    {
     "data": {
      "text/plain": [
       "array([-10,  -9,  -8,  -7,  -6,  -5,  -4,  -3,  -2,  -1,   0,   1,   2,\n",
       "         3,   4,   5,   6,   7,   8,   9,  10])"
      ]
     },
     "execution_count": 114,
     "metadata": {},
     "output_type": "execute_result"
    }
   ],
   "source": [
    "np.r_[-10:10+1:1]"
   ]
  },
  {
   "cell_type": "code",
   "execution_count": 118,
   "id": "071b5993-74cb-4926-a9fa-02a520680d0d",
   "metadata": {
    "tags": []
   },
   "outputs": [],
   "source": [
    "# selection are VIEW not COPY so mutable\n",
    "\n",
    "I[1:,1] = np.array([2,1,-1])"
   ]
  },
  {
   "cell_type": "code",
   "execution_count": 116,
   "id": "50fc86d0-2e2e-4bc9-8903-273b1e613274",
   "metadata": {
    "tags": []
   },
   "outputs": [
    {
     "data": {
      "text/plain": [
       "array([[1., 0., 0., 0.],\n",
       "       [0., 1., 0., 0.],\n",
       "       [0., 0., 1., 0.],\n",
       "       [0., 0., 0., 1.]])"
      ]
     },
     "execution_count": 116,
     "metadata": {},
     "output_type": "execute_result"
    }
   ],
   "source": [
    "I = np.identity(4)\n",
    "I"
   ]
  },
  {
   "cell_type": "code",
   "execution_count": 119,
   "id": "c5af646e-69c9-4f46-9f0f-643afb0229bc",
   "metadata": {
    "tags": []
   },
   "outputs": [
    {
     "data": {
      "text/plain": [
       "array([[ 1.,  0.,  0.,  0.],\n",
       "       [ 0.,  2.,  0.,  0.],\n",
       "       [ 0.,  1.,  1.,  0.],\n",
       "       [ 0., -1.,  0.,  1.]])"
      ]
     },
     "execution_count": 119,
     "metadata": {},
     "output_type": "execute_result"
    }
   ],
   "source": [
    "I"
   ]
  },
  {
   "cell_type": "code",
   "execution_count": 120,
   "id": "32523d2e-b04c-4283-88b0-9bc617e4368a",
   "metadata": {
    "tags": []
   },
   "outputs": [],
   "source": [
    "e = c"
   ]
  },
  {
   "cell_type": "code",
   "execution_count": 121,
   "id": "0e54988e-a9b1-4d59-9906-8dd5c057b299",
   "metadata": {
    "tags": []
   },
   "outputs": [
    {
     "name": "stdout",
     "output_type": "stream",
     "text": [
      "[[2 0 0]\n",
      " [0 3 0]\n",
      " [0 0 4]]\n",
      "[[2 0 0]\n",
      " [0 3 0]\n",
      " [0 0 4]]\n"
     ]
    }
   ],
   "source": [
    "print(e)\n",
    "print(c)"
   ]
  },
  {
   "cell_type": "code",
   "execution_count": 122,
   "id": "8e4b20c8-169a-4d44-b780-99b501a5cb40",
   "metadata": {
    "tags": []
   },
   "outputs": [
    {
     "name": "stdout",
     "output_type": "stream",
     "text": [
      "[2 0 0] (3,)\n"
     ]
    }
   ],
   "source": [
    "print(e[:,0],e[:,0].shape)\n",
    "e[:,0] = 1"
   ]
  },
  {
   "cell_type": "code",
   "execution_count": 123,
   "id": "9457e2e3-3bb0-42d6-867e-00e0cfd8c639",
   "metadata": {
    "tags": []
   },
   "outputs": [
    {
     "data": {
      "text/plain": [
       "array([[1, 0, 0],\n",
       "       [1, 3, 0],\n",
       "       [1, 0, 4]])"
      ]
     },
     "execution_count": 123,
     "metadata": {},
     "output_type": "execute_result"
    }
   ],
   "source": [
    "e"
   ]
  },
  {
   "cell_type": "code",
   "execution_count": 124,
   "id": "f419bebd-8d4d-4ef1-93a3-841723025815",
   "metadata": {
    "tags": []
   },
   "outputs": [
    {
     "data": {
      "text/plain": [
       "array([[1, 0, 0],\n",
       "       [1, 3, 0],\n",
       "       [1, 0, 4]])"
      ]
     },
     "execution_count": 124,
     "metadata": {},
     "output_type": "execute_result"
    }
   ],
   "source": [
    "c"
   ]
  },
  {
   "cell_type": "code",
   "execution_count": 126,
   "id": "a0da4447-a503-4ada-8e66-f13c38614d52",
   "metadata": {
    "tags": []
   },
   "outputs": [
    {
     "name": "stdout",
     "output_type": "stream",
     "text": [
      "[[2 0 0]\n",
      " [0 3 0]\n",
      " [0 0 4]]\n",
      "[[1 0 0]\n",
      " [1 3 0]\n",
      " [1 0 4]]\n"
     ]
    }
   ],
   "source": [
    "c = np.diag(np.arange(2,5))\n",
    "e = c.copy()\n",
    "e[:,0] = 1\n",
    "print(c)\n",
    "print(e)"
   ]
  },
  {
   "cell_type": "code",
   "execution_count": 51,
   "id": "56f06495-5858-4d5a-9147-7f6b2d5bfa29",
   "metadata": {
    "tags": []
   },
   "outputs": [
    {
     "data": {
      "text/plain": [
       "[[2, 0, 0], [0, 3, 0], [0, 0, 4]]"
      ]
     },
     "execution_count": 51,
     "metadata": {},
     "output_type": "execute_result"
    }
   ],
   "source": [
    "c.tolist()"
   ]
  },
  {
   "cell_type": "code",
   "execution_count": 53,
   "id": "1928a533-8adf-4876-b0e5-744110bc2f0d",
   "metadata": {
    "tags": []
   },
   "outputs": [
    {
     "name": "stdout",
     "output_type": "stream",
     "text": [
      "[8. 8. 8. 8. 8. 8. 8. 8. 8. 8.]\n"
     ]
    }
   ],
   "source": [
    "a.fill(8)\n",
    "print(a)"
   ]
  },
  {
   "cell_type": "code",
   "execution_count": 133,
   "id": "2f486f6a-0fa8-49fa-83b0-6e48e8d30e34",
   "metadata": {
    "tags": []
   },
   "outputs": [],
   "source": [
    "x = np.arange(10)"
   ]
  },
  {
   "cell_type": "code",
   "execution_count": 132,
   "id": "ef41cb74-aa30-4116-98bd-2ea3bf7d380f",
   "metadata": {
    "tags": []
   },
   "outputs": [
    {
     "data": {
      "text/plain": [
       "[-1, 0, 2]"
      ]
     },
     "execution_count": 132,
     "metadata": {},
     "output_type": "execute_result"
    }
   ],
   "source": []
  },
  {
   "cell_type": "code",
   "execution_count": 138,
   "id": "91029e55-1c05-416c-881e-730592646c73",
   "metadata": {
    "tags": []
   },
   "outputs": [
    {
     "data": {
      "text/plain": [
       "array([False, False, False, False, False,  True,  True, False, False,\n",
       "       False])"
      ]
     },
     "execution_count": 138,
     "metadata": {},
     "output_type": "execute_result"
    }
   ],
   "source": [
    "# mask for conditional\n",
    "\n",
    "(x > 4) & (x < 7)"
   ]
  },
  {
   "cell_type": "code",
   "execution_count": 139,
   "id": "64ae773b-1e41-45ff-b86e-0809cb598f1a",
   "metadata": {
    "tags": []
   },
   "outputs": [
    {
     "data": {
      "text/plain": [
       "array([5, 6])"
      ]
     },
     "execution_count": 139,
     "metadata": {},
     "output_type": "execute_result"
    }
   ],
   "source": [
    "x[ (x > 4) & (x < 7) ]"
   ]
  },
  {
   "cell_type": "code",
   "execution_count": 140,
   "id": "ddafa4ec-b621-42f7-9b17-073df0b1169f",
   "metadata": {
    "tags": []
   },
   "outputs": [
    {
     "data": {
      "text/plain": [
       "array([[70, 64, 59, 73, 10],\n",
       "       [44, 99, 40, 98, 71],\n",
       "       [51, 89, 54, 11, 60],\n",
       "       [65, 46, 96, 48, 73],\n",
       "       [91, 22, 37, 97, 61]])"
      ]
     },
     "execution_count": 140,
     "metadata": {},
     "output_type": "execute_result"
    }
   ],
   "source": [
    "M = np.random.randint(10,100,25).reshape((5,5))\n",
    "M"
   ]
  },
  {
   "cell_type": "code",
   "execution_count": 66,
   "id": "84691cf8-95e0-448b-b696-ab55eb38fe08",
   "metadata": {
    "tags": []
   },
   "outputs": [
    {
     "data": {
      "text/plain": [
       "(12, 99)"
      ]
     },
     "execution_count": 66,
     "metadata": {},
     "output_type": "execute_result"
    }
   ],
   "source": [
    "M.min(),M.max()"
   ]
  },
  {
   "cell_type": "code",
   "execution_count": 141,
   "id": "eba53f48-2535-44ab-9973-941c69918c32",
   "metadata": {
    "tags": []
   },
   "outputs": [
    {
     "name": "stdout",
     "output_type": "stream",
     "text": [
      "Minimums over columns:  [44 22 37 11 10]\n",
      "Minimums over rows:  [10 40 11 46 22]\n"
     ]
    }
   ],
   "source": [
    "# compute aggregation over colum\n",
    "\n",
    "print(\"Minimums over columns: \",M.min(axis=0))\n",
    "print(\"Minimums over rows: \",M.min(axis=1))\n"
   ]
  },
  {
   "cell_type": "code",
   "execution_count": 142,
   "id": "0b786fea-90ff-4974-99a7-8f47aadfa308",
   "metadata": {
    "tags": []
   },
   "outputs": [
    {
     "data": {
      "text/plain": [
       "array([70, 64, 59, 73, 10, 44, 99, 40, 98, 71, 51, 89, 54, 11, 60, 65, 46,\n",
       "       96, 48, 73, 91, 22, 37, 97, 61])"
      ]
     },
     "execution_count": 142,
     "metadata": {},
     "output_type": "execute_result"
    }
   ],
   "source": [
    "M.ravel()"
   ]
  },
  {
   "cell_type": "code",
   "execution_count": 81,
   "id": "bfdc285d-f664-4cf3-b35f-79498fbe6a71",
   "metadata": {
    "tags": []
   },
   "outputs": [
    {
     "name": "stdout",
     "output_type": "stream",
     "text": [
      "f over scalar:  0.01897936983747202\n",
      "f over array:  [0.2246142  0.0964178  0.01897937 0.00176591]\n"
     ]
    }
   ],
   "source": [
    "# ufunctions\n",
    "\n",
    "def f(x):\n",
    "    return np.exp(-x*x)*np.log(1+x*np.sin(x))\n",
    "\n",
    "print(\"f over scalar: \",f(2))\n",
    "print(\"f over array: \",f(np.array([1,1.5,2,2.5])))\n"
   ]
  },
  {
   "cell_type": "code",
   "execution_count": 144,
   "id": "19357581-5943-40f8-8dde-11c2591fe2d9",
   "metadata": {
    "tags": []
   },
   "outputs": [
    {
     "data": {
      "text/plain": [
       "array([[70, 64, 59, 73, 10],\n",
       "       [44, 99, 40, 98, 71],\n",
       "       [51, 89, 54, 11, 60],\n",
       "       [65, 46, 96, 48, 73],\n",
       "       [91, 22, 37, 97, 61]])"
      ]
     },
     "execution_count": 144,
     "metadata": {},
     "output_type": "execute_result"
    }
   ],
   "source": [
    "M"
   ]
  },
  {
   "cell_type": "code",
   "execution_count": 143,
   "id": "7b6ddf56-8996-435a-a02e-b7add920cd9f",
   "metadata": {
    "tags": []
   },
   "outputs": [
    {
     "data": {
      "text/plain": [
       "array([[70, 44, 51, 65, 91],\n",
       "       [64, 99, 89, 46, 22],\n",
       "       [59, 40, 54, 96, 37],\n",
       "       [73, 98, 11, 48, 97],\n",
       "       [10, 71, 60, 73, 61]])"
      ]
     },
     "execution_count": 143,
     "metadata": {},
     "output_type": "execute_result"
    }
   ],
   "source": [
    "M.T"
   ]
  },
  {
   "cell_type": "code",
   "execution_count": 88,
   "id": "ce9c48d6-68dc-47df-98aa-f79df46b67e7",
   "metadata": {
    "tags": []
   },
   "outputs": [],
   "source": [
    "x = np.ones(5)"
   ]
  },
  {
   "cell_type": "code",
   "execution_count": 89,
   "id": "6f41952e-dc81-4fb3-b57e-a385211ac36b",
   "metadata": {
    "tags": []
   },
   "outputs": [
    {
     "data": {
      "text/plain": [
       "array([226., 218., 284., 280., 280.])"
      ]
     },
     "execution_count": 89,
     "metadata": {},
     "output_type": "execute_result"
    }
   ],
   "source": [
    "# np.dot\n",
    "\n",
    "M @ x"
   ]
  },
  {
   "cell_type": "code",
   "execution_count": 90,
   "id": "00de7c53-bfee-41cc-96c3-8ba94b14f309",
   "metadata": {
    "tags": []
   },
   "outputs": [
    {
     "data": {
      "text/plain": [
       "5.0"
      ]
     },
     "execution_count": 90,
     "metadata": {},
     "output_type": "execute_result"
    }
   ],
   "source": [
    "x @ x"
   ]
  },
  {
   "cell_type": "code",
   "execution_count": 91,
   "id": "280426ff-bc47-4d74-9c5a-ea2efe879dc5",
   "metadata": {
    "tags": []
   },
   "outputs": [
    {
     "data": {
      "text/plain": [
       "array([[14332, 12268, 10444, 10502, 11918],\n",
       "       [13953,  9834,  8975, 11932, 10568],\n",
       "       [18646, 10010, 13578, 19961,  8611],\n",
       "       [20517, 10891, 13034, 16319, 10075],\n",
       "       [18967, 13806, 11943, 13229, 14447]])"
      ]
     },
     "execution_count": 91,
     "metadata": {},
     "output_type": "execute_result"
    }
   ],
   "source": [
    "M @ M"
   ]
  },
  {
   "cell_type": "code",
   "execution_count": 92,
   "id": "14c341e8-c896-4957-acdd-6021bcafa86f",
   "metadata": {
    "tags": []
   },
   "outputs": [],
   "source": [
    "from numpy.linalg import solve\n"
   ]
  },
  {
   "cell_type": "code",
   "execution_count": 93,
   "id": "ac7dae29-eb50-41eb-8e70-58db40e8ebab",
   "metadata": {
    "tags": []
   },
   "outputs": [],
   "source": [
    "y = solve(M,x)"
   ]
  },
  {
   "cell_type": "code",
   "execution_count": 94,
   "id": "2d67326d-d8ea-49e9-8c3f-9ac20963e214",
   "metadata": {
    "tags": []
   },
   "outputs": [
    {
     "data": {
      "text/plain": [
       "array([ 0.01897273,  0.0741515 , -0.0621668 ,  0.02048107, -0.04375146])"
      ]
     },
     "execution_count": 94,
     "metadata": {},
     "output_type": "execute_result"
    }
   ],
   "source": [
    "y"
   ]
  },
  {
   "cell_type": "code",
   "execution_count": 148,
   "id": "779b70f9-01f6-4dfe-8457-dbe2ab415068",
   "metadata": {
    "tags": []
   },
   "outputs": [
    {
     "data": {
      "text/plain": [
       "array([[ 3,  2, -1],\n",
       "       [ 2,  0,  1],\n",
       "       [ 3,  1,  2]])"
      ]
     },
     "execution_count": 148,
     "metadata": {},
     "output_type": "execute_result"
    }
   ],
   "source": [
    "M = np.array([[3,2,-1],[2,0,1],[3,1,2]])\n",
    "M"
   ]
  },
  {
   "cell_type": "code",
   "execution_count": 149,
   "id": "93da0fb6-d5b1-4448-bc96-91e0590a7827",
   "metadata": {
    "tags": []
   },
   "outputs": [],
   "source": [
    "x = [-1,0,2]"
   ]
  },
  {
   "cell_type": "code",
   "execution_count": 150,
   "id": "877fa46f-4516-4d3e-8cd3-f94dde81f25b",
   "metadata": {
    "tags": []
   },
   "outputs": [
    {
     "name": "stdout",
     "output_type": "stream",
     "text": [
      "[-0.71428571  1.28571429  1.42857143]\n"
     ]
    }
   ],
   "source": [
    "y = solve(M,x)\n",
    "print(y)"
   ]
  },
  {
   "cell_type": "markdown",
   "id": "243f47bf-0303-4750-8587-65d9a1c9cf88",
   "metadata": {},
   "source": [
    "Un interessante applicazione dei sistemi lineari, viene dal modello di\n",
    "Leontief per la pianificazione della produzione in un modello chiuso.\n",
    "L'economia è suddivisa in *Settori*, ogni settore produce degli *outputs* e\n",
    "richiede degli *inputs*. Ha vinto il Nobel per l'economia per questo modello."
   ]
  },
  {
   "cell_type": "code",
   "execution_count": 163,
   "id": "36bcac93-bc58-405e-8ed1-a8cfc8c5b153",
   "metadata": {
    "tags": []
   },
   "outputs": [
    {
     "name": "stdout",
     "output_type": "stream",
     "text": [
      "Technology Matrix\n",
      "\n",
      " [[0.5 0.1 0.1]\n",
      " [0.2 0.5 0.3]\n",
      " [0.1 0.3 0.4]]\n"
     ]
    }
   ],
   "source": [
    "# Esempio: settori = agricoltura, manifattura, utility\n",
    "# produzione in dollari\n",
    "\n",
    "C = np.array([ [0.5, 0.1, 0.1], [0.2, 0.5, 0.3], [0.1, 0.3, 0.4] ])\n",
    "print(\"Technology Matrix\\n\\n\",C)\n",
    "b = [7900, 3950, 1975]\n",
    "I = np.identity(3)\n",
    "A = I-C\n",
    "\n"
   ]
  },
  {
   "cell_type": "code",
   "execution_count": 151,
   "id": "bfece299-c75d-41d2-827b-54c11564a42d",
   "metadata": {
    "tags": []
   },
   "outputs": [],
   "source": [
    "(I-C)x = d"
   ]
  },
  {
   "cell_type": "code",
   "execution_count": 164,
   "id": "06df877e-bd13-4c7c-ae9c-a2842d443727",
   "metadata": {
    "tags": []
   },
   "outputs": [],
   "source": [
    "x = solve(A,b)"
   ]
  },
  {
   "cell_type": "code",
   "execution_count": 155,
   "id": "c5ed70b7-376c-477b-aeef-f5d4b5a049eb",
   "metadata": {
    "tags": []
   },
   "outputs": [],
   "source": [
    "import scipy.linalg as sl\n",
    "\n",
    "[LU,piv] = sl.lu_factor(X)"
   ]
  },
  {
   "cell_type": "code",
   "execution_count": 158,
   "id": "3184af51-794a-45e8-be62-0c2671fd708d",
   "metadata": {
    "tags": []
   },
   "outputs": [
    {
     "data": {
      "text/plain": [
       "array([27500., 33750., 24750.])"
      ]
     },
     "execution_count": 158,
     "metadata": {},
     "output_type": "execute_result"
    }
   ],
   "source": [
    "sl.lu_solve((LU,piv),d)"
   ]
  },
  {
   "cell_type": "code",
   "execution_count": 166,
   "id": "dd06db1e-8363-4db0-b49d-9626af566eaa",
   "metadata": {
    "tags": []
   },
   "outputs": [],
   "source": [
    "c = A @ x"
   ]
  },
  {
   "cell_type": "code",
   "execution_count": 170,
   "id": "0b3371f3-05a6-4f63-a6e5-24b1d0489ce0",
   "metadata": {
    "tags": []
   },
   "outputs": [
    {
     "name": "stdout",
     "output_type": "stream",
     "text": [
      "Diversi\n"
     ]
    }
   ],
   "source": [
    "equal = (b == c).all()\n",
    "if equal:\n",
    "    print(\"Uguali\")\n",
    "else:\n",
    "    print(\"Diversi\")"
   ]
  },
  {
   "cell_type": "code",
   "execution_count": 174,
   "id": "efba3523-c4c4-42bd-9ccd-d940dd38c68f",
   "metadata": {
    "tags": []
   },
   "outputs": [
    {
     "name": "stdout",
     "output_type": "stream",
     "text": [
      "[[1 2]\n",
      " [3 4]]\n",
      "[[1 3]\n",
      " [2 4]]\n",
      "[1 2 3 4]\n"
     ]
    }
   ],
   "source": [
    "v1 = np.array([1,2])\n",
    "v2 = np.array([3,4])\n",
    "print(np.vstack([v1,v2]))\n",
    "print(np.column_stack([v1,v2]))\n",
    "print(np.hstack([v1,v2]))"
   ]
  },
  {
   "cell_type": "code",
   "execution_count": 179,
   "id": "d5266279-8406-46ac-b1a3-dd898d0edb14",
   "metadata": {
    "tags": []
   },
   "outputs": [
    {
     "data": {
      "text/plain": [
       "True"
      ]
     },
     "execution_count": 179,
     "metadata": {},
     "output_type": "execute_result"
    }
   ],
   "source": [
    "np.allclose(b,c)"
   ]
  },
  {
   "cell_type": "code",
   "execution_count": 184,
   "id": "d281a3c7-2225-45e5-bd81-69b545f3a720",
   "metadata": {
    "tags": []
   },
   "outputs": [
    {
     "data": {
      "text/plain": [
       "array([0, 1, 2, 3, 4, 5])"
      ]
     },
     "execution_count": 184,
     "metadata": {},
     "output_type": "execute_result"
    }
   ],
   "source": [
    "x = np.arange(10)\n",
    "x[ ~(x > 5) | (x == 0) ]"
   ]
  },
  {
   "cell_type": "code",
   "execution_count": 185,
   "id": "bd7a0204-b44d-495d-bc13-aab0b4d3b251",
   "metadata": {
    "tags": []
   },
   "outputs": [
    {
     "data": {
      "text/plain": [
       "array([0, 1, 2, 3, 4, 5, 6, 7, 8, 9])"
      ]
     },
     "execution_count": 185,
     "metadata": {},
     "output_type": "execute_result"
    }
   ],
   "source": [
    "x"
   ]
  },
  {
   "cell_type": "code",
   "execution_count": 186,
   "id": "6c29f895-e455-4f29-a6ac-27bca289c4ba",
   "metadata": {
    "tags": []
   },
   "outputs": [
    {
     "data": {
      "text/plain": [
       "array([0, 1, 2, 3, 4, 5, 6, 7, 8, 9])"
      ]
     },
     "execution_count": 186,
     "metadata": {},
     "output_type": "execute_result"
    }
   ],
   "source": [
    "x.T"
   ]
  },
  {
   "cell_type": "code",
   "execution_count": 192,
   "id": "c668800b-693c-4690-8d57-a2687c4344d1",
   "metadata": {
    "tags": []
   },
   "outputs": [
    {
     "name": "stdout",
     "output_type": "stream",
     "text": [
      "1 (10,)\n",
      "1 (10,)\n"
     ]
    }
   ],
   "source": [
    "print(x.ndim,x.shape)\n",
    "y = x.T\n",
    "print(y.ndim,y.shape)"
   ]
  },
  {
   "cell_type": "code",
   "execution_count": 195,
   "id": "4b7295bf-1559-4cfd-83ed-05bed222ca66",
   "metadata": {
    "tags": []
   },
   "outputs": [
    {
     "data": {
      "text/plain": [
       "array([[0],\n",
       "       [1],\n",
       "       [2],\n",
       "       [3],\n",
       "       [4],\n",
       "       [5],\n",
       "       [6],\n",
       "       [7],\n",
       "       [8],\n",
       "       [9]])"
      ]
     },
     "execution_count": 195,
     "metadata": {},
     "output_type": "execute_result"
    }
   ],
   "source": [
    "x.reshape((10,1))"
   ]
  },
  {
   "cell_type": "code",
   "execution_count": 198,
   "id": "99aff805-a584-4b85-bcc4-13ce09fa3c6a",
   "metadata": {
    "tags": []
   },
   "outputs": [
    {
     "data": {
      "text/plain": [
       "5"
      ]
     },
     "execution_count": 198,
     "metadata": {},
     "output_type": "execute_result"
    }
   ],
   "source": [
    "A = np.array([[1,0,2,0],[0,0,0,0],[3,0,0,0],[1,0,0,4]])\n",
    "(A > 0).sum()"
   ]
  },
  {
   "cell_type": "code",
   "execution_count": null,
   "id": "b073c87e-8ccd-4cf2-8983-3916058a0e09",
   "metadata": {},
   "outputs": [],
   "source": []
  }
 ],
 "metadata": {
  "kernelspec": {
   "display_name": "Python 3 (ipykernel)",
   "language": "python",
   "name": "python3"
  },
  "language_info": {
   "codemirror_mode": {
    "name": "ipython",
    "version": 3
   },
   "file_extension": ".py",
   "mimetype": "text/x-python",
   "name": "python",
   "nbconvert_exporter": "python",
   "pygments_lexer": "ipython3",
   "version": "3.11.2"
  }
 },
 "nbformat": 4,
 "nbformat_minor": 5
}
