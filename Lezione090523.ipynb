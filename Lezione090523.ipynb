{
 "cells": [
  {
   "cell_type": "code",
   "execution_count": 79,
   "id": "ba671543-0284-4ec3-9289-49314b438920",
   "metadata": {
    "tags": []
   },
   "outputs": [],
   "source": [
    "import seaborn as sns\n",
    "import numpy as np\n",
    "import random\n",
    "import matplotlib.pyplot as plt\n",
    "from matplotlib.colors import ListedColormap\n",
    "\n",
    "\n",
    "iris = sns.load_dataset('iris')\n"
   ]
  },
  {
   "cell_type": "code",
   "execution_count": 39,
   "id": "8c6c888b-789a-47e2-bb60-d6a44baabde4",
   "metadata": {
    "tags": []
   },
   "outputs": [
    {
     "name": "stdout",
     "output_type": "stream",
     "text": [
      "[[5.1 3.5 1.4 0.2]\n",
      " [4.9 3.  1.4 0.2]\n",
      " [4.7 3.2 1.3 0.2]\n",
      " [4.6 3.1 1.5 0.2]\n",
      " [5.  3.6 1.4 0.2]] [0 0 0 0 0]\n"
     ]
    }
   ],
   "source": [
    "iris['target'] = iris['species'].replace( iris['species'].unique(), [0,1,2])\n",
    "Xls = iris.iloc[:100,:-2].to_numpy()\n",
    "yls = iris['target'].to_numpy()\n",
    "yls = yls[:100]\n",
    "print(Xls[0:5],yls[0:5])"
   ]
  },
  {
   "cell_type": "code",
   "execution_count": 42,
   "id": "1fc8bd47-a17a-42b9-be4a-686b0305f183",
   "metadata": {
    "tags": []
   },
   "outputs": [
    {
     "name": "stdout",
     "output_type": "stream",
     "text": [
      "100\n"
     ]
    }
   ],
   "source": [
    "print(len(Xls))"
   ]
  },
  {
   "cell_type": "code",
   "execution_count": 70,
   "id": "024006ee-2c37-4293-a0f6-9e0ff10f0099",
   "metadata": {
    "tags": []
   },
   "outputs": [],
   "source": [
    "class Percentron(object):\n",
    "    \"\"\" Perceptron class\n",
    "    \n",
    "    Parametri:\n",
    "    \n",
    "    \"\"\"\n",
    "    def __init__(self,feautures=0,eta=0.01,n_iter=50):\n",
    "        self._features = feautures\n",
    "        self._eta = eta\n",
    "        self._niter = n_iter\n",
    "        # public\n",
    "        self.errors = []\n",
    "        self.w = np.zeros(feautures)\n",
    "        self.bias = 0\n",
    "        \n",
    "    def fit(self,X,y):\n",
    "        self.errors = []\n",
    "        for i in range(self._niter):\n",
    "            print(f\"Iterazione: {i} \",end=\"\")\n",
    "            errori = 0\n",
    "            # batch on the entire training set\n",
    "            for xi,target in zip(X,y):\n",
    "                output = self.predict(xi)     # what do you compute?\n",
    "                gradient = target - output           # gradient = (target == output)\n",
    "                update = self._eta * gradient\n",
    "                self.w += xi * update\n",
    "                self.bias += update\n",
    "                errori += int(update != 0.0)\n",
    "            self.errors.append(errori)\n",
    "            print(f\"Numero errori = {errori}\")\n",
    "            if errori == 0:\n",
    "                break\n",
    "    \n",
    "    def net_input(self,X):\n",
    "        return X @ self.w + self.bias \n",
    "    \n",
    "    def predict(self,X):\n",
    "        return np.where(self.net_input(X) > 0.0, 1, 0)\n"
   ]
  },
  {
   "cell_type": "code",
   "execution_count": 44,
   "id": "ce3ceeab-259e-480f-bd32-7bda392e9527",
   "metadata": {
    "tags": []
   },
   "outputs": [
    {
     "name": "stdout",
     "output_type": "stream",
     "text": [
      "[69, 8, 96, 38, 46, 35, 58, 16, 13, 11, 53, 9, 34, 56, 68, 22, 59, 41, 80, 81, 5, 87, 74, 42, 86, 0, 10, 54, 88, 32, 93, 21, 97, 99, 33, 83, 85, 90, 7, 27, 92, 71, 66, 45, 6, 14, 55, 82, 12, 24, 78, 18, 77, 3, 91, 19, 76, 89, 63, 39]\n"
     ]
    }
   ],
   "source": [
    "index = random.sample(range(100),60)"
   ]
  },
  {
   "cell_type": "code",
   "execution_count": 54,
   "id": "8c4c238c-ab84-4b20-a8c9-f70dd83adcc9",
   "metadata": {
    "tags": []
   },
   "outputs": [],
   "source": [
    "X_train,y_train = Xls[index],yls[index]\n",
    "mask = np.ones(100,dtype=bool)\n",
    "mask[index] = False\n",
    "X_test,y_test = Xls[mask],yls[mask]\n"
   ]
  },
  {
   "cell_type": "code",
   "execution_count": 72,
   "id": "6845944d-ae3a-4445-ae48-a9bf261de85f",
   "metadata": {
    "tags": []
   },
   "outputs": [],
   "source": [
    "neuron = Percentron(4,eta=0.1,n_iter=10)"
   ]
  },
  {
   "cell_type": "code",
   "execution_count": 73,
   "id": "2229bf70-9e22-4c69-a531-c3d4ceee61b9",
   "metadata": {
    "tags": []
   },
   "outputs": [
    {
     "name": "stdout",
     "output_type": "stream",
     "text": [
      "Iterazione: 0 Numero errori = 1\n",
      "Iterazione: 1 Numero errori = 3\n",
      "Iterazione: 2 Numero errori = 2\n",
      "Iterazione: 3 Numero errori = 2\n",
      "Iterazione: 4 Numero errori = 2\n",
      "Iterazione: 5 Numero errori = 1\n",
      "Iterazione: 6 Numero errori = 0\n"
     ]
    }
   ],
   "source": [
    "neuron.fit(X_train,y_train)"
   ]
  },
  {
   "cell_type": "code",
   "execution_count": 74,
   "id": "6f8f151a-3357-41a2-9316-2b62b8ea2e8a",
   "metadata": {
    "tags": []
   },
   "outputs": [
    {
     "data": {
      "text/plain": [
       "[1, 3, 2, 2, 2, 1, 0]"
      ]
     },
     "execution_count": 74,
     "metadata": {},
     "output_type": "execute_result"
    }
   ],
   "source": [
    "neuron.errors"
   ]
  },
  {
   "cell_type": "code",
   "execution_count": 80,
   "id": "3dd375a9-5e48-4c9f-ad88-ed4a2494cd1b",
   "metadata": {
    "tags": []
   },
   "outputs": [],
   "source": [
    "def plot_decision_regions(X, y, classifier, resolution=0.06):\n",
    "\n",
    "    # setup marker generator and color map\n",
    "    markers = ('x', 'o', '^', 'v')\n",
    "    colors = ('red', 'blue', 'lightgreen', 'gray', 'cyan')\n",
    "    cmap = ListedColormap(colors[:len(np.unique(y))])\n",
    "\n",
    "    # plot the decision surface\n",
    "    x1_min, x1_max = X[:, 0].min() - 0.5, X[:, 0].max() + 0.5\n",
    "    x2_min, x2_max = X[:, 1].min() - 0.5, X[:, 1].max() + 0.5\n",
    "    xx1, xx2 = np.meshgrid(np.arange(x1_min, x1_max, resolution),\n",
    "                           np.arange(x2_min, x2_max, resolution))\n",
    "    Z = classifier.predict(np.array([xx1.ravel(), xx2.ravel()]).T)\n",
    "    Z = Z.reshape(xx1.shape)\n",
    "    plt.contourf(xx1, xx2, Z, alpha=0.2, cmap=cmap)\n",
    "    plt.xlim(xx1.min(), xx1.max())\n",
    "    plt.ylim(xx2.min(), xx2.max())\n",
    "\n",
    "    # plot class examples\n",
    "    for idx, cl in enumerate(np.unique(y)):\n",
    "        plt.scatter(x=X[y == cl, 0], \n",
    "                    y=X[y == cl, 1],\n",
    "                    alpha=0.8, \n",
    "                    c=colors[idx],\n",
    "                    marker=markers[idx], \n",
    "                    label=cl, \n",
    "                    edgecolor='black')"
   ]
  },
  {
   "cell_type": "code",
   "execution_count": 81,
   "id": "0e54bbf7-2ed2-4022-a0fc-30823473ed4d",
   "metadata": {
    "tags": []
   },
   "outputs": [
    {
     "ename": "ValueError",
     "evalue": "matmul: Input operand 1 has a mismatch in its core dimension 0, with gufunc signature (n?,k),(k,m?)->(n?,m?) (size 4 is different from 2)",
     "output_type": "error",
     "traceback": [
      "\u001b[0;31m---------------------------------------------------------------------------\u001b[0m",
      "\u001b[0;31mValueError\u001b[0m                                Traceback (most recent call last)",
      "Cell \u001b[0;32mIn [81], line 1\u001b[0m\n\u001b[0;32m----> 1\u001b[0m \u001b[43mplot_decision_regions\u001b[49m\u001b[43m(\u001b[49m\u001b[43mX_train\u001b[49m\u001b[43m,\u001b[49m\u001b[43m \u001b[49m\u001b[43my_train\u001b[49m\u001b[43m,\u001b[49m\u001b[43m \u001b[49m\u001b[43mclassifier\u001b[49m\u001b[38;5;241;43m=\u001b[39;49m\u001b[43mneuron\u001b[49m\u001b[43m)\u001b[49m\n\u001b[1;32m      2\u001b[0m plt\u001b[38;5;241m.\u001b[39mxlabel(\u001b[38;5;124m'\u001b[39m\u001b[38;5;124mPepal length [cm]\u001b[39m\u001b[38;5;124m'\u001b[39m)\n\u001b[1;32m      3\u001b[0m plt\u001b[38;5;241m.\u001b[39mylabel(\u001b[38;5;124m'\u001b[39m\u001b[38;5;124mPetal length [cm]\u001b[39m\u001b[38;5;124m'\u001b[39m)\n",
      "Cell \u001b[0;32mIn [80], line 13\u001b[0m, in \u001b[0;36mplot_decision_regions\u001b[0;34m(X, y, classifier, resolution)\u001b[0m\n\u001b[1;32m     10\u001b[0m x2_min, x2_max \u001b[38;5;241m=\u001b[39m X[:, \u001b[38;5;241m1\u001b[39m]\u001b[38;5;241m.\u001b[39mmin() \u001b[38;5;241m-\u001b[39m \u001b[38;5;241m0.5\u001b[39m, X[:, \u001b[38;5;241m1\u001b[39m]\u001b[38;5;241m.\u001b[39mmax() \u001b[38;5;241m+\u001b[39m \u001b[38;5;241m0.5\u001b[39m\n\u001b[1;32m     11\u001b[0m xx1, xx2 \u001b[38;5;241m=\u001b[39m np\u001b[38;5;241m.\u001b[39mmeshgrid(np\u001b[38;5;241m.\u001b[39marange(x1_min, x1_max, resolution),\n\u001b[1;32m     12\u001b[0m                        np\u001b[38;5;241m.\u001b[39marange(x2_min, x2_max, resolution))\n\u001b[0;32m---> 13\u001b[0m Z \u001b[38;5;241m=\u001b[39m \u001b[43mclassifier\u001b[49m\u001b[38;5;241;43m.\u001b[39;49m\u001b[43mpredict\u001b[49m\u001b[43m(\u001b[49m\u001b[43mnp\u001b[49m\u001b[38;5;241;43m.\u001b[39;49m\u001b[43marray\u001b[49m\u001b[43m(\u001b[49m\u001b[43m[\u001b[49m\u001b[43mxx1\u001b[49m\u001b[38;5;241;43m.\u001b[39;49m\u001b[43mravel\u001b[49m\u001b[43m(\u001b[49m\u001b[43m)\u001b[49m\u001b[43m,\u001b[49m\u001b[43m \u001b[49m\u001b[43mxx2\u001b[49m\u001b[38;5;241;43m.\u001b[39;49m\u001b[43mravel\u001b[49m\u001b[43m(\u001b[49m\u001b[43m)\u001b[49m\u001b[43m]\u001b[49m\u001b[43m)\u001b[49m\u001b[38;5;241;43m.\u001b[39;49m\u001b[43mT\u001b[49m\u001b[43m)\u001b[49m\n\u001b[1;32m     14\u001b[0m Z \u001b[38;5;241m=\u001b[39m Z\u001b[38;5;241m.\u001b[39mreshape(xx1\u001b[38;5;241m.\u001b[39mshape)\n\u001b[1;32m     15\u001b[0m plt\u001b[38;5;241m.\u001b[39mcontourf(xx1, xx2, Z, alpha\u001b[38;5;241m=\u001b[39m\u001b[38;5;241m0.2\u001b[39m, cmap\u001b[38;5;241m=\u001b[39mcmap)\n",
      "Cell \u001b[0;32mIn [70], line 38\u001b[0m, in \u001b[0;36mPercentron.predict\u001b[0;34m(self, X)\u001b[0m\n\u001b[1;32m     37\u001b[0m \u001b[38;5;28;01mdef\u001b[39;00m \u001b[38;5;21mpredict\u001b[39m(\u001b[38;5;28mself\u001b[39m,X):\n\u001b[0;32m---> 38\u001b[0m     \u001b[38;5;28;01mreturn\u001b[39;00m np\u001b[38;5;241m.\u001b[39mwhere(\u001b[38;5;28;43mself\u001b[39;49m\u001b[38;5;241;43m.\u001b[39;49m\u001b[43mnet_input\u001b[49m\u001b[43m(\u001b[49m\u001b[43mX\u001b[49m\u001b[43m)\u001b[49m \u001b[38;5;241m>\u001b[39m \u001b[38;5;241m0.0\u001b[39m, \u001b[38;5;241m1\u001b[39m, \u001b[38;5;241m0\u001b[39m)\n",
      "Cell \u001b[0;32mIn [70], line 35\u001b[0m, in \u001b[0;36mPercentron.net_input\u001b[0;34m(self, X)\u001b[0m\n\u001b[1;32m     34\u001b[0m \u001b[38;5;28;01mdef\u001b[39;00m \u001b[38;5;21mnet_input\u001b[39m(\u001b[38;5;28mself\u001b[39m,X):\n\u001b[0;32m---> 35\u001b[0m     \u001b[38;5;28;01mreturn\u001b[39;00m \u001b[43mX\u001b[49m\u001b[43m \u001b[49m\u001b[38;5;241;43m@\u001b[39;49m\u001b[43m \u001b[49m\u001b[38;5;28;43mself\u001b[39;49m\u001b[38;5;241;43m.\u001b[39;49m\u001b[43mw\u001b[49m \u001b[38;5;241m+\u001b[39m \u001b[38;5;28mself\u001b[39m\u001b[38;5;241m.\u001b[39mbias\n",
      "\u001b[0;31mValueError\u001b[0m: matmul: Input operand 1 has a mismatch in its core dimension 0, with gufunc signature (n?,k),(k,m?)->(n?,m?) (size 4 is different from 2)"
     ]
    }
   ],
   "source": [
    "plot_decision_regions(X_train, y_train, classifier=neuron)\n",
    "plt.xlabel('Pepal length [cm]')\n",
    "plt.ylabel('Petal length [cm]')\n",
    "plt.legend(loc='upper left')\n",
    "# plt.savefig('images/02_08.png', dpi=300)\n",
    "plt.show()"
   ]
  },
  {
   "cell_type": "code",
   "execution_count": null,
   "id": "f65fceb7-20f9-4677-aff6-6822cbf2ca2f",
   "metadata": {},
   "outputs": [],
   "source": []
  }
 ],
 "metadata": {
  "kernelspec": {
   "display_name": "Python 3 (ipykernel)",
   "language": "python",
   "name": "python3"
  },
  "language_info": {
   "codemirror_mode": {
    "name": "ipython",
    "version": 3
   },
   "file_extension": ".py",
   "mimetype": "text/x-python",
   "name": "python",
   "nbconvert_exporter": "python",
   "pygments_lexer": "ipython3",
   "version": "3.11.3"
  }
 },
 "nbformat": 4,
 "nbformat_minor": 5
}
